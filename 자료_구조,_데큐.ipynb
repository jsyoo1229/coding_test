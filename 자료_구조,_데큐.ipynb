{
  "nbformat": 4,
  "nbformat_minor": 0,
  "metadata": {
    "colab": {
      "provenance": []
    },
    "kernelspec": {
      "name": "python3",
      "display_name": "Python 3"
    },
    "language_info": {
      "name": "python"
    }
  },
  "cells": [
    {
      "cell_type": "markdown",
      "source": [
        "#### 83번"
      ],
      "metadata": {
        "id": "IVeok_tWA2J0"
      }
    },
    {
      "cell_type": "code",
      "source": [
        "https://www.notion.so/083-790961118bb2445c947138dcc9e62132"
      ],
      "metadata": {
        "id": "lpXigZ1SBSE0"
      },
      "execution_count": null,
      "outputs": []
    },
    {
      "cell_type": "code",
      "execution_count": null,
      "metadata": {
        "id": "QQMPVQmiv83T"
      },
      "outputs": [],
      "source": [
        "[{\"name\": \"알고리즘\", \"type\": \"전공 필수\", \"start\": \"09:00\",\n",
        "  \"end\": \"10:30\",   \"instructor\": \"이교수\", \"credit\": 3},\n",
        " {\"name\": \"데이터베이스\", \"type\": \"전공 필수\", \"start\": \"10:30\", \"end\": \"12:00\",\n",
        "  \"instructor\": \"한교수\", \"credit\": 3},\n",
        " {\"name\": \"인공지능\", \"type\": \"전공 선택\", \"start\": \"10:45\", \"end\": \"12:15\",\n",
        "  \"instructor\": \"박교수\", \"credit\": 3}]\n",
        "\n",
        "  [\"알고리즘\", \"데이터베이스\"]"
      ]
    },
    {
      "cell_type": "code",
      "source": [
        "lectures = [{\"name\": \"알고리즘\", \"type\": \"전공 필수\", \"start\": \"09:00\",\n",
        "  \"end\": \"10:30\",   \"instructor\": \"이교수\", \"credit\": 3},\n",
        " {\"name\": \"데이터베이스\", \"type\": \"전공 필수\", \"start\": \"10:30\", \"end\": \"12:00\",\n",
        "  \"instructor\": \"한교수\", \"credit\": 3},\n",
        " {\"name\": \"인공지능\", \"type\": \"전공 선택\", \"start\": \"10:45\", \"end\": \"12:15\",\n",
        "  \"instructor\": \"박교수\", \"credit\": 3}]\n",
        "\n",
        "def solution(lectures):\n",
        "    sorted(lectures, key=lambda lecture: lecture['end'])\n",
        "    last_end = '00:00'\n",
        "    selected_lectures = []\n",
        "    max_credit = 0\n",
        "\n",
        "    for lecture in lectures:\n",
        "        if lecture['start'] >= last_end:\n",
        "            last_end = lecture['end']\n",
        "            max_credit += lecture['credit']\n",
        "            selected_lectures.append(lecture['name'])\n",
        "            # selected_lectures.append(max_credit)\n",
        "\n",
        "    # selected_lectures.append(max_credit)\n",
        "\n",
        "    return selected_lectures\n",
        "\n",
        "solution(lectures)"
      ],
      "metadata": {
        "colab": {
          "base_uri": "https://localhost:8080/"
        },
        "id": "jaKdYRQQ7HYM",
        "outputId": "ca8603df-ccb8-4ad7-a1b7-828dcfe417be"
      },
      "execution_count": null,
      "outputs": [
        {
          "output_type": "execute_result",
          "data": {
            "text/plain": [
              "['알고리즘', '데이터베이스']"
            ]
          },
          "metadata": {},
          "execution_count": 23
        }
      ]
    },
    {
      "cell_type": "markdown",
      "source": [
        "#### 84번"
      ],
      "metadata": {
        "id": "5U5AAfDEBldz"
      }
    },
    {
      "cell_type": "code",
      "source": [
        "https://www.notion.so/084-b044ce92674046a8873e00eadaa49b12"
      ],
      "metadata": {
        "id": "QHkJcHKCBndV"
      },
      "execution_count": null,
      "outputs": []
    },
    {
      "cell_type": "code",
      "source": [
        "[\"Flight A,07:00,09:30\", \"Flight B,06:30,09:00\", \"Flight C,07:30,10:00\"]\n",
        "\"Flight B\""
      ],
      "metadata": {
        "id": "wEz7cmjNBnrf"
      },
      "execution_count": null,
      "outputs": []
    },
    {
      "cell_type": "code",
      "source": [
        "schedule = [\"Flight A,07:00,09:30\", \"Flight B,06:30,09:00\", \"Flight C,07:30,10:00\"]\n",
        "\n",
        "\n",
        "def solution(schedule):\n",
        "    sorted_flight = [flight.split(',') for flight in schedule]\n",
        "    return sorted(sorted_flight, key=lambda x:x[2])[0][0]\n",
        "\n",
        "\n",
        "solution(schedule)"
      ],
      "metadata": {
        "colab": {
          "base_uri": "https://localhost:8080/",
          "height": 35
        },
        "id": "iHgCCKb3BrkB",
        "outputId": "200b6249-c764-40d6-e9a7-534c09f1efa8"
      },
      "execution_count": null,
      "outputs": [
        {
          "output_type": "execute_result",
          "data": {
            "text/plain": [
              "'Flight B'"
            ],
            "application/vnd.google.colaboratory.intrinsic+json": {
              "type": "string"
            }
          },
          "metadata": {},
          "execution_count": 29
        }
      ]
    },
    {
      "cell_type": "markdown",
      "source": [
        "#####알게된 점"
      ],
      "metadata": {
        "id": "Mb9uiHsDDNXD"
      }
    },
    {
      "cell_type": "code",
      "source": [
        "split(',')"
      ],
      "metadata": {
        "id": "lXfq8ABdDT22"
      },
      "execution_count": null,
      "outputs": []
    },
    {
      "cell_type": "markdown",
      "source": [
        "####85번"
      ],
      "metadata": {
        "id": "7KhmQlWyD-yc"
      }
    },
    {
      "cell_type": "code",
      "source": [
        "[\n",
        "    [\n",
        "        # airportData\n",
        "        {\n",
        "            \"name\": \"Airport A\",\n",
        "            \"distance\": 500,\n",
        "            \"treatableDiseases\": [\"Disease A\", \"Disease B\"]\n",
        "        },\n",
        "        {\n",
        "            \"name\": \"Airport B\",\n",
        "            \"distance\": 300,\n",
        "            \"treatableDiseases\": [\"Disease C\"]\n",
        "        },\n",
        "        {\n",
        "            \"name\": \"Airport C\",\n",
        "            \"distance\": 400,\n",
        "            \"treatableDiseases\": [\"Disease B\", \"Disease C\"]\n",
        "        }\n",
        "    ],\n",
        "    [\"Disease A\", \"Disease C\"] # patientData\n",
        "]\n",
        "\n",
        "\n",
        "\"Airport B\", \"Airport A\""
      ],
      "metadata": {
        "id": "HrdTj-6UEBTX"
      },
      "execution_count": null,
      "outputs": []
    },
    {
      "cell_type": "code",
      "source": [
        "data = [\n",
        "    [\n",
        "        # airportData\n",
        "        {\n",
        "            \"name\": \"Airport A\",\n",
        "            \"distance\": 500,\n",
        "            \"treatableDiseases\": [\"Disease A\", \"Disease B\"]\n",
        "        },\n",
        "        {\n",
        "            \"name\": \"Airport B\",\n",
        "            \"distance\": 300,\n",
        "            \"treatableDiseases\": [\"Disease C\"]\n",
        "        },\n",
        "        {\n",
        "            \"name\": \"Airport C\",\n",
        "            \"distance\": 400,\n",
        "            \"treatableDiseases\": [\"Disease B\", \"Disease C\"]\n",
        "        }\n",
        "    ],\n",
        "    [\"Disease A\", \"Disease C\"] # patientData\n",
        "]\n",
        "\n",
        "\n",
        "def solution(data):\n",
        "    lis = []\n",
        "    airportData, patientData = data\n",
        "    sorted_data = sorted(airportData, key=lambda x: x['distance'])\n",
        "\n",
        "    for i in sorted_data:\n",
        "        for j in patientData:\n",
        "            if j in i['treatableDiseases']:\n",
        "                lis.append(i)\n",
        "\n",
        "    return [d['name'] for d in lis]\n",
        "\n",
        "solution(data)\n"
      ],
      "metadata": {
        "colab": {
          "base_uri": "https://localhost:8080/"
        },
        "id": "ehKi_0HsEKCL",
        "outputId": "ad617309-406b-47fa-c4d7-f796601a99f4"
      },
      "execution_count": null,
      "outputs": [
        {
          "output_type": "execute_result",
          "data": {
            "text/plain": [
              "['Airport B', 'Airport C', 'Airport A']"
            ]
          },
          "metadata": {},
          "execution_count": 39
        }
      ]
    },
    {
      "cell_type": "code",
      "source": [
        "data = [\n",
        "    [\n",
        "        # airportData\n",
        "        {\n",
        "            \"name\": \"Airport A\",\n",
        "            \"distance\": 500,\n",
        "            \"treatableDiseases\": [\"Disease A\", \"Disease B\"]\n",
        "        },\n",
        "        {\n",
        "            \"name\": \"Airport B\",\n",
        "            \"distance\": 300,\n",
        "            \"treatableDiseases\": [\"Disease C\"]\n",
        "        },\n",
        "        {\n",
        "            \"name\": \"Airport C\",\n",
        "            \"distance\": 400,\n",
        "            \"treatableDiseases\": [\"Disease B\", \"Disease C\"]\n",
        "        }\n",
        "    ],\n",
        "    [\"Disease A\", \"Disease C\"] # patientData\n",
        "]\n",
        "\n",
        "\n",
        "\n",
        "def solution(data):\n",
        "    airportData, patientData = data #1 언패킹\n",
        "    sorted_airports = sorted(airportData, key=lambda x: x[\"distance\"]) #2 정렬\n",
        "    treatable_airports = []\n",
        "    for disease in patientData: #3 공항 찾기\n",
        "        for airport in sorted_airports:\n",
        "            if disease in airport[\"treatableDiseases\"]:\n",
        "                if airport[\"name\"] not in treatable_airports:\n",
        "                    treatable_airports.append(airport[\"name\"])\n",
        "                break\n",
        "\n",
        "    return treatable_airports #4 결과 반환\n",
        "\n",
        "\n",
        "solution(data)"
      ],
      "metadata": {
        "colab": {
          "base_uri": "https://localhost:8080/"
        },
        "id": "1Zn8oDkIM6Bm",
        "outputId": "622a01fe-94ae-4377-9a74-071d1459ea6f"
      },
      "execution_count": null,
      "outputs": [
        {
          "output_type": "execute_result",
          "data": {
            "text/plain": [
              "['Airport A', 'Airport B']"
            ]
          },
          "metadata": {},
          "execution_count": 35
        }
      ]
    }
  ]
}